{
  "cells": [
    {
      "cell_type": "code",
      "execution_count": null,
      "metadata": {
        "colab": {
          "base_uri": "https://localhost:8080/"
        },
        "id": "NELkudvZ8ze4",
        "outputId": "bce691fa-9c15-47fc-b67b-e2fef5aa0c46"
      },
      "outputs": [],
      "source": [
        "!pip install pymupdf4llm"
      ]
    },
    {
      "cell_type": "code",
      "execution_count": 3,
      "metadata": {
        "id": "FFiXBDq2Jhc_"
      },
      "outputs": [],
      "source": [
        "import pymupdf4llm"
      ]
    },
    {
      "cell_type": "markdown",
      "metadata": {
        "id": "f_xEeT8oNX9v"
      },
      "source": [
        "## Get all the Text"
      ]
    },
    {
      "cell_type": "code",
      "execution_count": null,
      "metadata": {
        "colab": {
          "base_uri": "https://localhost:8080/"
        },
        "id": "-aWZpwjrMYrT",
        "outputId": "799e3a02-a7cf-4674-b6f7-a301e8267bd1"
      },
      "outputs": [],
      "source": [
        "md_text = pymupdf4llm.to_markdown(\"input.pdf\")"
      ]
    },
    {
      "cell_type": "code",
      "execution_count": null,
      "metadata": {
        "colab": {
          "base_uri": "https://localhost:8080/"
        },
        "id": "oUk20p71Mmkx",
        "outputId": "8423ba7e-f210-4581-a7f1-5877d1f5e396"
      },
      "outputs": [],
      "source": [
        "print(md_text)"
      ]
    },
    {
      "cell_type": "markdown",
      "metadata": {
        "id": "WAkDI73hMuGF"
      },
      "source": [
        "## Save Markdown to a File"
      ]
    },
    {
      "cell_type": "code",
      "execution_count": 6,
      "metadata": {
        "id": "GRp-iLS5Mph5"
      },
      "outputs": [],
      "source": [
        "import pathlib"
      ]
    },
    {
      "cell_type": "code",
      "execution_count": null,
      "metadata": {
        "colab": {
          "base_uri": "https://localhost:8080/"
        },
        "id": "m0uZJbjtMw0p",
        "outputId": "783c38bd-130d-4378-b959-299b5980d986"
      },
      "outputs": [],
      "source": [
        "pathlib.Path(\"output.md\").write_bytes(md_text.encode())"
      ]
    },
    {
      "cell_type": "markdown",
      "metadata": {
        "id": "Y7i9EitWNGQw"
      },
      "source": [
        "## Extract only specific pages"
      ]
    },
    {
      "cell_type": "code",
      "execution_count": null,
      "metadata": {
        "colab": {
          "base_uri": "https://localhost:8080/"
        },
        "id": "vhk1uwg-NFzY",
        "outputId": "2b31e7f1-8aca-4676-de3e-63ed9d135767"
      },
      "outputs": [],
      "source": [
        "md_text_pages = pymupdf4llm.to_markdown(\"input.pdf\", pages=[1, 2])"
      ]
    },
    {
      "cell_type": "code",
      "execution_count": null,
      "metadata": {
        "colab": {
          "base_uri": "https://localhost:8080/",
          "height": 122
        },
        "id": "j8qLtcHTNFgb",
        "outputId": "bee87a85-317e-4cac-a60b-b53d2467ef1d"
      },
      "outputs": [],
      "source": [
        "md_text_pages"
      ]
    },
    {
      "cell_type": "markdown",
      "metadata": {
        "id": "qp5F9lmINced"
      },
      "source": [
        "## Extracting documents for LlamaIndex"
      ]
    },
    {
      "cell_type": "code",
      "execution_count": null,
      "metadata": {
        "colab": {
          "base_uri": "https://localhost:8080/"
        },
        "id": "OneNi1WONhEi",
        "outputId": "70744593-a9f0-4a1a-e2e0-4a549b8fc636"
      },
      "outputs": [],
      "source": [
        "!pip install llama_index"
      ]
    },
    {
      "cell_type": "code",
      "execution_count": null,
      "metadata": {
        "colab": {
          "base_uri": "https://localhost:8080/"
        },
        "id": "t4NsDUpfNQ98",
        "outputId": "85f13e99-05ef-486c-e6b3-a4fa4f77ab1a"
      },
      "outputs": [],
      "source": [
        "llama_reader = pymupdf4llm.LlamaMarkdownReader()"
      ]
    },
    {
      "cell_type": "code",
      "execution_count": null,
      "metadata": {
        "colab": {
          "base_uri": "https://localhost:8080/"
        },
        "id": "5RGgfFUENe9W",
        "outputId": "a6bd80f1-f698-48c5-c9d7-6e12eca8891f"
      },
      "outputs": [],
      "source": [
        "llama_docs = llama_reader.load_data(\"input.pdf\")"
      ]
    },
    {
      "cell_type": "code",
      "execution_count": null,
      "metadata": {
        "colab": {
          "base_uri": "https://localhost:8080/"
        },
        "id": "RQ8kbfaaNvUj",
        "outputId": "26d07044-2c15-4a5e-c764-c875208b4069"
      },
      "outputs": [],
      "source": [
        "print(f\"LlamaIndex Compatiable Data: {len(llama_docs)}\")"
      ]
    },
    {
      "cell_type": "code",
      "execution_count": null,
      "metadata": {
        "colab": {
          "base_uri": "https://localhost:8080/"
        },
        "id": "zL68FkrmNzt_",
        "outputId": "cb7cbf68-16d1-4fe7-e059-791a3fb25ef5"
      },
      "outputs": [],
      "source": [
        "{llama_docs[0].text[:500]}"
      ]
    },
    {
      "cell_type": "markdown",
      "metadata": {
        "id": "xpiDiye3N-ms"
      },
      "source": [
        "## Extracting images"
      ]
    },
    {
      "cell_type": "code",
      "execution_count": null,
      "metadata": {
        "colab": {
          "base_uri": "https://localhost:8080/"
        },
        "id": "VMswuaUDN7dj",
        "outputId": "4324d78c-e3cc-403f-fc04-f7a7f990afe9"
      },
      "outputs": [],
      "source": [
        "md_text_images = pymupdf4llm.to_markdown(\n",
        "    doc=\"input.pdf\",\n",
        "    pages=[0, 2],\n",
        "    page_chunks=True,\n",
        "    write_images=True,\n",
        "    image_path=\"images\",\n",
        "    image_format=\"png\",\n",
        "    dpi=300\n",
        ")"
      ]
    },
    {
      "cell_type": "markdown",
      "metadata": {
        "id": "-8hC4d2pOLgh"
      },
      "source": [
        "## Chunking data and extracting it with metadata"
      ]
    },
    {
      "cell_type": "code",
      "execution_count": null,
      "metadata": {
        "colab": {
          "base_uri": "https://localhost:8080/"
        },
        "id": "5r8U-lRSODNb",
        "outputId": "0c24c02f-ed69-43f2-a230-73ef5a97f181"
      },
      "outputs": [],
      "source": [
        "md_text_chunks = pymupdf4llm.to_markdown(\n",
        "    doc=\"input.pdf\",\n",
        "    pages=[0, 1, 2],\n",
        "    page_chunks=True\n",
        ")"
      ]
    },
    {
      "cell_type": "code",
      "execution_count": null,
      "metadata": {
        "colab": {
          "base_uri": "https://localhost:8080/"
        },
        "id": "3_BAeyucOOzQ",
        "outputId": "13c5ab75-10f7-4bcf-f858-b3565c61fd4d"
      },
      "outputs": [],
      "source": [
        "print(md_text_chunks[0])"
      ]
    },
    {
      "cell_type": "markdown",
      "metadata": {
        "id": "tKny5q5qOWAG"
      },
      "source": [
        "## Detailed word-by-word extraction"
      ]
    },
    {
      "cell_type": "code",
      "execution_count": null,
      "metadata": {
        "colab": {
          "base_uri": "https://localhost:8080/"
        },
        "id": "RMshV-j_ORaE",
        "outputId": "751900cb-8a90-4955-9848-92981e3580a5"
      },
      "outputs": [],
      "source": [
        "md_text_words = pymupdf4llm.to_markdown(\n",
        "    doc=\"input.pdf\",\n",
        "    pages=[0, 1, 2],\n",
        "    page_chunks=True,\n",
        "    write_images=True,\n",
        "    image_path=\"images\",\n",
        "    image_format=\"png\",\n",
        "    dpi=300,\n",
        "    extract_words=True\n",
        ")"
      ]
    },
    {
      "cell_type": "code",
      "execution_count": null,
      "metadata": {
        "colab": {
          "base_uri": "https://localhost:8080/"
        },
        "id": "1gLCGkuuOZyb",
        "outputId": "5b72820c-247e-4bcb-b0bd-6144e5a230ab"
      },
      "outputs": [],
      "source": [
        "print(md_text_words[0]['words'][:5])"
      ]
    },
    {
      "cell_type": "markdown",
      "metadata": {
        "id": "6-BhnhecOgoB"
      },
      "source": [
        "## Extracting tables neatly"
      ]
    },
    {
      "cell_type": "code",
      "execution_count": null,
      "metadata": {
        "colab": {
          "base_uri": "https://localhost:8080/"
        },
        "id": "nHQsCA_wOdg0",
        "outputId": "4f704a7e-192d-444b-e72c-45c532cff50a"
      },
      "outputs": [],
      "source": [
        "md_text_tables = pymupdf4llm.to_markdown(\n",
        "    doc=\"tables.pdf\"\n",
        ")"
      ]
    },
    {
      "cell_type": "code",
      "execution_count": null,
      "metadata": {
        "colab": {
          "base_uri": "https://localhost:8080/",
          "height": 105
        },
        "id": "kXiclBMkOtW2",
        "outputId": "5c216907-75ce-491a-da85-c342d248ec35"
      },
      "outputs": [],
      "source": [
        "md_text_tables"
      ]
    }
  ],
  "metadata": {
    "colab": {
      "provenance": []
    },
    "kernelspec": {
      "display_name": "Python 3",
      "name": "python3"
    },
    "language_info": {
      "name": "python"
    }
  },
  "nbformat": 4,
  "nbformat_minor": 0
}
